{
  "nbformat": 4,
  "nbformat_minor": 0,
  "metadata": {
    "colab": {
      "provenance": [],
      "authorship_tag": "ABX9TyNBn2eumCdFdWHQLa2/NbKK",
      "include_colab_link": true
    },
    "kernelspec": {
      "name": "python3",
      "display_name": "Python 3"
    },
    "language_info": {
      "name": "python"
    }
  },
  "cells": [
    {
      "cell_type": "markdown",
      "metadata": {
        "id": "view-in-github",
        "colab_type": "text"
      },
      "source": [
        "<a href=\"https://colab.research.google.com/github/torhec1234/Actividades_Aprendizaje-/blob/main/Ejercicios_Data_anlysis_with_python_Modulo1.ipynb\" target=\"_parent\"><img src=\"https://colab.research.google.com/assets/colab-badge.svg\" alt=\"Open In Colab\"/></a>"
      ]
    },
    {
      "cell_type": "code",
      "execution_count": 49,
      "metadata": {
        "colab": {
          "base_uri": "https://localhost:8080/"
        },
        "id": "OLC3VIqYQ_OJ",
        "outputId": "beb0d036-27ca-4b83-e637-825476591382"
      },
      "outputs": [
        {
          "output_type": "stream",
          "name": "stdout",
          "text": [
            "<class 'pandas.core.frame.DataFrame'>\n",
            "RangeIndex: 205 entries, 0 to 204\n",
            "Data columns (total 26 columns):\n",
            " #   Column              Non-Null Count  Dtype  \n",
            "---  ------              --------------  -----  \n",
            " 0   Symboling           205 non-null    int64  \n",
            " 1   normalized- losses  205 non-null    object \n",
            " 2   make                205 non-null    object \n",
            " 3   fuel-type           205 non-null    object \n",
            " 4   aspiration          205 non-null    object \n",
            " 5   num-of-doors        205 non-null    object \n",
            " 6   body-style          205 non-null    object \n",
            " 7   drive-wheels        205 non-null    object \n",
            " 8   engine-location     205 non-null    object \n",
            " 9   wheel-base          205 non-null    float64\n",
            " 10  lengh               205 non-null    float64\n",
            " 11  width               205 non-null    float64\n",
            " 12  height              205 non-null    float64\n",
            " 13  curb-weight         205 non-null    int64  \n",
            " 14  engine-type         205 non-null    object \n",
            " 15  num of cylinders    205 non-null    object \n",
            " 16  engine size         205 non-null    int64  \n",
            " 17  fuel-system         205 non-null    object \n",
            " 18  bore                205 non-null    object \n",
            " 19  stroke              205 non-null    object \n",
            " 20  comprassion-ratio   205 non-null    float64\n",
            " 21  horsepowr           205 non-null    object \n",
            " 22  peak rpm            205 non-null    object \n",
            " 23  city mpg            205 non-null    int64  \n",
            " 24  highway-mpg         205 non-null    int64  \n",
            " 25  price               205 non-null    object \n",
            "dtypes: float64(5), int64(5), object(16)\n",
            "memory usage: 41.8+ KB\n"
          ]
        }
      ],
      "source": [
        "\n",
        "import pandas as pd\n",
        "\n",
        "url = \"https://archive.ics.uci.edu/ml/machine-learning-databases/autos/imports-85.data\"\n",
        "\n",
        "df = pd.read_csv(url, header = None )\n",
        "\n",
        "# se pueden mostrar solo parte de los datos con df.head(n) en onde n son los rows del data frame \n",
        "# df.tail muestra solo los ultimos datos de n rows del data frame \n",
        "\n",
        "df.head()\n",
        "df.tail()\n",
        "\n",
        "\n",
        "# Asignar nombre de las columnas con el domando headers = []\n",
        "\n",
        "headers = [\"Symboling\", \"normalized- losses\", \"make\", \"fuel-type\",\"aspiration\",\"num-of-doors\", \"body-style\", 'drive-wheels', \"engine-location\",\"wheel-base\",\"lengh\",\n",
        "           \"width\",\"height\",\"curb-weight\",\"engine-type\", \"num of cylinders\",\"engine size\", \"fuel-system\", \"bore\", \"stroke\", \"comprassion-ratio\",\"horsepowr\",\"peak rpm\"\n",
        "           , \"city mpg\", \"highway-mpg\",\"price\"]\n",
        "           \n",
        "\n",
        "df.columns = headers   #aqui ya asignamos nombres a las columnas con el comando .columns \n",
        "\n",
        "df.head()  #corroboramos los nombres \n",
        "\n",
        "path = \"/content/Cognitive examples /Data analysis with py/Modulo 1 /1Automobile.csv\" #El path se guarda localmente en los \n",
        " #docs del google colab\n",
        "\n",
        "df.to_csv(path) #lo importas a la rota que creaste \n",
        "\n",
        "\n",
        "# with open('df', 'w') as f:\n",
        "  # f.write('some content')\n",
        "\n",
        "# files.download('some content')\n",
        "\n",
        "\n",
        "\n",
        "df.dtypes #te da el tipo de dato de cada columna \n",
        "\n",
        "df.describe() #te da un diferentes datos de cada columna como conteo total, promedio \n",
        "\n",
        "df.describe(include = \"all\") #te da los valores en los que hay NAN (not a nomber) o equivocaciones en los registros \n",
        "\n",
        "df.info()\n"
      ]
    }
  ]
}